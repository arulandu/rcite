{
  "cells": [
    {
      "cell_type": "code",
      "execution_count": 1,
      "metadata": {
        "id": "7P1TFXtPpfEa"
      },
      "outputs": [],
      "source": [
        "import numpy as np\n",
        "import scipy\n",
        "import scipy.sparse.linalg as LA\n",
        "from scipy.sparse import kron, identity, csr_matrix\n",
        "from scipy.sparse.linalg import eigsh  # For sparse diagonalization\n",
        "from numpy.linalg import eigh  # For small systems\n",
        "import matplotlib.pyplot as plt"
      ]
    },
    {
      "cell_type": "code",
      "execution_count": 2,
      "metadata": {
        "id": "eLKJScJSphYJ"
      },
      "outputs": [],
      "source": [
        "# Pauli matrices\n",
        "sx = np.array([[0, 1], [1, 0]], dtype=complex)\n",
        "sz = np.array([[1, 0], [0, -1]], dtype=complex)\n",
        "id2 = np.eye(2, dtype=complex)\n",
        "\n",
        "\n",
        "def build_operator(op, i, N):\n",
        "    #Builds a many-body operator acting with op on site i\n",
        "    tmp = 1\n",
        "    for j in range(N):\n",
        "        tmp = kron(tmp, op if i == j else id2, 'csr')\n",
        "    return tmp\n",
        "\n",
        "\n",
        "def ising_hamiltonian(N, J=1.0, h=1.0, periodic=True, sparse=True):\n",
        "    # Constructs the TFIM Hamiltonian for N spins\n",
        "    H = 0\n",
        "    # Interaction terms: -J * sz_i * sz_{i+1}\n",
        "    for i in range(N):\n",
        "        j = (i + 1) % N if periodic else i + 1\n",
        "        if j >= N:\n",
        "            continue\n",
        "        sz_i = build_operator(sz, i, N)\n",
        "        sz_j = build_operator(sz, j, N)\n",
        "        H += -J * (sz_i @ sz_j)\n",
        "\n",
        "    # Transverse field terms: -h * sx_i\n",
        "    for i in range(N):\n",
        "        sx_i = build_operator(sx, i, N)\n",
        "        H += -h * sx_i\n",
        "\n",
        "    return H if sparse else H.toarray()\n",
        "\n",
        "\n",
        "def expm_H(Es, U, t):\n",
        "  # Returns e^{-iHt}\n",
        "  tmp = U @ np.diag(np.exp(-1j*t*Es)) @ np.conjugate(np.transpose(U))\n",
        "  return tmp\n",
        "\n",
        "\n",
        "def trace_distance(rho1, rho2):\n",
        "  # Returns trace distance of rho1 and rho2\n",
        "  val = 1/2*np.sum(np.linalg.svdvals(rho1 - rho2))\n",
        "  return val\n"
      ]
    },
    {
      "cell_type": "code",
      "execution_count": 4,
      "metadata": {
        "colab": {
          "base_uri": "https://localhost:8080/"
        },
        "id": "nCZujSCCpn6n",
        "outputId": "ab73dbb7-39bc-42b2-b8ae-f354020043f8"
      },
      "outputs": [
        {
          "name": "stdout",
          "output_type": "stream",
          "text": [
            "Eigenvalues:\n",
            "[-9.545045 -8.674122 -6.976123 -6.976123 -6.618945 -5.297999 -5.297999\n",
            " -4.674122 -4.641065 -4.641065 -4.641065 -4.641065 -3.678123 -3.44093\n",
            " -3.44093  -3.44093  -3.44093  -2.663185 -2.       -2.       -2.\n",
            " -2.       -1.46305  -1.46305  -1.46305  -1.46305  -1.376123 -1.376123\n",
            " -0.321877 -0.302001 -0.302001 -0.262915  0.262915  0.302001  0.302001\n",
            "  0.321877  1.376123  1.376123  1.46305   1.46305   1.46305   1.46305\n",
            "  2.        2.        2.        2.        2.663185  3.44093   3.44093\n",
            "  3.44093   3.44093   3.678123  4.641065  4.641065  4.641065  4.641065\n",
            "  4.674122  5.297999  5.297999  6.618945  6.976123  6.976123  8.674122\n",
            "  9.545045]\n"
          ]
        }
      ],
      "source": [
        "# Parameters\n",
        "N = 6         # Number of spins (keep small for exact diagonalization)\n",
        "J = 1.0       # Ising coupling\n",
        "h = 1.4       # Transverse field\n",
        "\n",
        "# Build Hamiltonian\n",
        "H = ising_hamiltonian(N, J, h, periodic=True, sparse=False)\n",
        "\n",
        "# Diagonalize Hamiltonian\n",
        "Es, U = eigh(H)             # H = U @ Es @ U^\\dag\n",
        "print(\"Eigenvalues:\")\n",
        "print(np.round(Es, 6))\n",
        "\n",
        "# Construt ground state density matrix\n",
        "spectral_gap =  Es[1] - Es[0]\n",
        "ground_state = U[:,0]\n",
        "ground_state_rho = np.outer(ground_state, np.conjugate(np.transpose(ground_state)))"
      ]
    },
    {
      "cell_type": "code",
      "execution_count": 5,
      "metadata": {
        "id": "EKetVciKqF3C"
      },
      "outputs": [],
      "source": [
        "# Random initial state\n",
        "init_state = np.random.rand(2**N) + 1j*np.random.rand(2**N)\n",
        "init_state *= 1/np.linalg.norm(init_state)"
      ]
    },
    {
      "cell_type": "code",
      "execution_count": 6,
      "metadata": {
        "id": "7hoK4Gmgqagl"
      },
      "outputs": [],
      "source": [
        "# Imaginary-time evolved state\n",
        "beta = 2\n",
        "ITE_state = scipy.linalg.expm(-beta*H) @ init_state\n",
        "ITE_state *= 1/np.linalg.norm(ITE_state)\n",
        "ITE_state_rho = np.outer(ITE_state, np.conjugate(np.transpose(ITE_state)))"
      ]
    },
    {
      "cell_type": "code",
      "execution_count": 7,
      "metadata": {
        "colab": {
          "base_uri": "https://localhost:8080/"
        },
        "id": "fcJMt9TzvZWt",
        "outputId": "5ab99ddf-cd32-4c61-ec8d-c8b1d124cb34"
      },
      "outputs": [
        {
          "data": {
            "text/plain": [
              "np.float64(0.013970350694707492)"
            ]
          },
          "execution_count": 7,
          "metadata": {},
          "output_type": "execute_result"
        }
      ],
      "source": [
        "# Trace distance between ITE state and ground state\n",
        "trace_distance(ITE_state_rho, ground_state_rho)"
      ]
    },
    {
      "cell_type": "code",
      "execution_count": 8,
      "metadata": {
        "colab": {
          "base_uri": "https://localhost:8080/"
        },
        "id": "deOIyQl4vLAW",
        "outputId": "a5b734a9-8846-4c11-eeb9-b2b4c5fd79ff"
      },
      "outputs": [
        {
          "name": "stdout",
          "output_type": "stream",
          "text": [
            "0\n",
            "10000\n",
            "20000\n",
            "30000\n",
            "40000\n",
            "50000\n",
            "60000\n",
            "70000\n",
            "80000\n",
            "90000\n"
          ]
        }
      ],
      "source": [
        "# Estimates the randomly-compiled real-imaginary time evolved state by averaging over M samples\n",
        "\n",
        "M = int(1e5)                        # Number of samples\n",
        "sigma = 3*(beta/spectral_gap)**.5   # Standard deviation; in general this should be O(\\sqrt{beta/Delta}) for a Gaussian distribution\n",
        "\n",
        "ts = np.random.normal(0, sigma, M)  # Times sampled from Gaussian distribution with stdev sigma\n",
        "\n",
        "RC_ITE_state_rho = np.zeros((2**N, 2**N) , dtype=complex)     # Initializes randomly-compiled ITE state\n",
        "\n",
        "U_dag_ITE_state = np.conjugate(np.transpose(U)) @ ITE_state   # U_dag times ITE state (this is used below in estimating RC ITE states)\n",
        "\n",
        "for m in range(M):\n",
        "  if m % (10000) == 0:\n",
        "    print(m)\n",
        "\n",
        "  t = ts[m]\n",
        "\n",
        "  # H = U @ Es @ U^\\dag, so the real-time evolution operator can be written as U @ exp(-1j*t*Es) @ U^\\dag.\n",
        "  # We use this to realize a single real-imaginary time evolved state vector as a sequence of many matrix-vector multiplications\n",
        "  tmp = U @ (np.diag(np.exp(-1j*t*Es)) @ U_dag_ITE_state)     # Real-imaginary time evolved state vector\n",
        "  tmp_rho = np.outer(tmp, np.conjugate(np.transpose(tmp)))    # Real-imaginary time evolved state density matrix\n",
        "\n",
        "  # Do the same thing, but now with -t. This enforces that sampling of times t is done symmetrically about 0\n",
        "  tmp2 = U @ (np.diag(np.exp(1j*t*Es)) @ U_dag_ITE_state)\n",
        "  tmp2_rho = np.outer(tmp2, np.conjugate(np.transpose(tmp2)))\n",
        "\n",
        "  RC_ITE_state_rho += 1/2*(tmp_rho + tmp2_rho)\n",
        "\n",
        "# Average all sampled states\n",
        "RC_ITE_state_rho *= 1/M"
      ]
    },
    {
      "cell_type": "code",
      "execution_count": 1,
      "metadata": {
        "colab": {
          "base_uri": "https://localhost:8080/"
        },
        "id": "bkdLiplRyQ8Q",
        "outputId": "cdde0601-8d70-40e4-9ea6-827778c43890"
      },
      "outputs": [
        {
          "ename": "NameError",
          "evalue": "name 'trace_distance' is not defined",
          "output_type": "error",
          "traceback": [
            "\u001b[0;31m---------------------------------------------------------------------------\u001b[0m",
            "\u001b[0;31mNameError\u001b[0m                                 Traceback (most recent call last)",
            "Cell \u001b[0;32mIn[1], line 2\u001b[0m\n\u001b[1;32m      1\u001b[0m \u001b[38;5;66;03m#Evaluate trace distance with ground state\u001b[39;00m\n\u001b[0;32m----> 2\u001b[0m \u001b[43mtrace_distance\u001b[49m(RC_ITE_state_rho, ground_state_rho)\n",
            "\u001b[0;31mNameError\u001b[0m: name 'trace_distance' is not defined"
          ]
        }
      ],
      "source": [
        "#Evaluate trace distance with ground state\n",
        "trace_distance(RC_ITE_state_rho, ground_state_rho)"
      ]
    },
    {
      "cell_type": "markdown",
      "metadata": {
        "id": "MlwA4kTTuysA"
      },
      "source": [
        "# Plot Data"
      ]
    },
    {
      "cell_type": "code",
      "execution_count": 10,
      "metadata": {
        "id": "ULZtbvQaZJvP"
      },
      "outputs": [],
      "source": [
        "# Data I collected\n",
        "betas = np.array([0.5,1,1.5,2,2.5,3,3.5,4,4.5,5])\n",
        "ITE_TD = np.array([0.120006941,0.029359188,0.009365511,0.0046932,0.002902611,0.00186637,0.001206503,0.000780483,0.000504939,0.000326678])\n",
        "RC_ITE_TD = np.array([0.014748462,0.000903409,9.08081E-05,2.25486E-05,1.01104E-05,3.69474E-06,1.77158E-06,9.63414E-07,4.56215E-07,2.36795E-07])\n",
        "RC_ITE_TD_stdev = np.array([5.64657E-06,4.52879E-06,1.26487E-06,5.26862E-07,1.31866E-06,3.60074E-07,2.63238E-07,2.54559E-07,1.36589E-07,6.21586E-08])"
      ]
    },
    {
      "cell_type": "code",
      "execution_count": 11,
      "metadata": {
        "colab": {
          "base_uri": "https://localhost:8080/",
          "height": 499
        },
        "id": "eSHX50hsoF-9",
        "outputId": "617ad47a-63c0-4023-dbac-c2e86315bc11"
      },
      "outputs": [
        {
          "data": {
            "text/plain": [
              "Text(0.5, 1.0, 'Trace Distance vs. beta')"
            ]
          },
          "execution_count": 11,
          "metadata": {},
          "output_type": "execute_result"
        },
        {
          "data": {
            "image/png": "[encoded data removed]",
            "text/plain": [
              "<Figure size 640x480 with 1 Axes>"
            ]
          },
          "metadata": {},
          "output_type": "display_data"
        }
      ],
      "source": [
        "# Plot data\n",
        "plt.errorbar(betas, ITE_TD, 0*RC_ITE_TD_stdev, label='Imag Time Evo', linewidth = 3)\n",
        "plt.errorbar(betas, RC_ITE_TD, RC_ITE_TD_stdev, label='Real-Imag Time Evo', linewidth = 3)\n",
        "plt.plot(betas, ITE_TD**2, label='Imag Time Evo Squared', linewidth = 1.3, linestyle='--', zorder=3)\n",
        "\n",
        "plt.yscale('log')\n",
        "plt.xlabel(r'$\\beta$', fontsize=16)\n",
        "plt.ylabel(r'Trace Distance with Ground State', fontsize=16)\n",
        "plt.legend(fontsize = 12)\n",
        "plt.title('Trace Distance vs. beta')"
      ]
    },
    {
      "cell_type": "code",
      "execution_count": null,
      "metadata": {
        "id": "XjvQSWzovFK0"
      },
      "outputs": [],
      "source": []
    }
  ],
  "metadata": {
    "colab": {
      "provenance": []
    },
    "kernelspec": {
      "display_name": "quantum",
      "language": "python",
      "name": "python3"
    },
    "language_info": {
      "codemirror_mode": {
        "name": "ipython",
        "version": 3
      },
      "file_extension": ".py",
      "mimetype": "text/x-python",
      "name": "python",
      "nbconvert_exporter": "python",
      "pygments_lexer": "ipython3",
      "version": "3.12.7"
    }
  },
  "nbformat": 4,
  "nbformat_minor": 0
}
